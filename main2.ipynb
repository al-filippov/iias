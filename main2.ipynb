{
 "cells": [
  {
   "cell_type": "markdown",
   "metadata": {},
   "source": [
    "Установка зависимостей"
   ]
  },
  {
   "cell_type": "code",
   "execution_count": null,
   "metadata": {},
   "outputs": [],
   "source": [
    "%pip install python-docx==1.1.0\n",
    "%pip install pandas==2.2.1\n",
    "%pip install nltk==3.8.1\n",
    "%pip install scikit-learn==1.4.0\n",
    "%pip install fuzzy-c-means==1.7.2\n",
    "%pip install spacy==3.7.4\n",
    "!python -m spacy download ru_core_news_sm"
   ]
  },
  {
   "cell_type": "markdown",
   "metadata": {},
   "source": [
    "Загрузка данных"
   ]
  },
  {
   "cell_type": "code",
   "execution_count": 1,
   "metadata": {},
   "outputs": [
    {
     "data": {
      "text/html": [
       "<div>\n",
       "<style scoped>\n",
       "    .dataframe tbody tr th:only-of-type {\n",
       "        vertical-align: middle;\n",
       "    }\n",
       "\n",
       "    .dataframe tbody tr th {\n",
       "        vertical-align: top;\n",
       "    }\n",
       "\n",
       "    .dataframe thead th {\n",
       "        text-align: right;\n",
       "    }\n",
       "</style>\n",
       "<table border=\"1\" class=\"dataframe\">\n",
       "  <thead>\n",
       "    <tr style=\"text-align: right;\">\n",
       "      <th></th>\n",
       "      <th>doc</th>\n",
       "      <th>text</th>\n",
       "      <th>vector</th>\n",
       "    </tr>\n",
       "  </thead>\n",
       "  <tbody>\n",
       "    <tr>\n",
       "      <th>0</th>\n",
       "      <td>tz_01.docx</td>\n",
       "      <td>2.2 Техническое задание 2.2.1 Общие сведения п...</td>\n",
       "      <td>[]</td>\n",
       "    </tr>\n",
       "    <tr>\n",
       "      <th>1</th>\n",
       "      <td>tz_02.docx</td>\n",
       "      <td>2.2 Техническое задание 2.2.1 Общие сведения П...</td>\n",
       "      <td>[]</td>\n",
       "    </tr>\n",
       "    <tr>\n",
       "      <th>2</th>\n",
       "      <td>tz_03.docx</td>\n",
       "      <td>2.2. Техническое задание Общие сведения: В дан...</td>\n",
       "      <td>[]</td>\n",
       "    </tr>\n",
       "    <tr>\n",
       "      <th>3</th>\n",
       "      <td>tz_04.docx</td>\n",
       "      <td>Техническое задание 2.2.1 Общие сведения Интер...</td>\n",
       "      <td>[]</td>\n",
       "    </tr>\n",
       "    <tr>\n",
       "      <th>4</th>\n",
       "      <td>tz_05.docx</td>\n",
       "      <td>2.2 Техническое задание 2.2.1 Общие сведения. ...</td>\n",
       "      <td>[]</td>\n",
       "    </tr>\n",
       "  </tbody>\n",
       "</table>\n",
       "</div>"
      ],
      "text/plain": [
       "          doc                                               text vector\n",
       "0  tz_01.docx  2.2 Техническое задание 2.2.1 Общие сведения п...     []\n",
       "1  tz_02.docx  2.2 Техническое задание 2.2.1 Общие сведения П...     []\n",
       "2  tz_03.docx  2.2. Техническое задание Общие сведения: В дан...     []\n",
       "3  tz_04.docx  Техническое задание 2.2.1 Общие сведения Интер...     []\n",
       "4  tz_05.docx  2.2 Техническое задание 2.2.1 Общие сведения. ...     []"
      ]
     },
     "execution_count": 1,
     "metadata": {},
     "output_type": "execute_result"
    }
   ],
   "source": [
    "import pandas as pd\n",
    "from docx import Document\n",
    "import os\n",
    "\n",
    "\n",
    "def read_docx(file_path):\n",
    "    doc = Document(file_path)\n",
    "    full_text = []\n",
    "    for paragraph in doc.paragraphs:\n",
    "        full_text.append(paragraph.text)\n",
    "    return \" \".join(full_text)\n",
    "\n",
    "df = pd.DataFrame(columns=[\"doc\", \"text\", \"vector\"])\n",
    "\n",
    "dataset_path = \"dataset-txt/docx/\"\n",
    "for file_path in os.listdir(dataset_path):\n",
    "    if (file_path.startswith(\"~$\")):\n",
    "        continue\n",
    "    text = read_docx(dataset_path + file_path)\n",
    "    df.loc[len(df.index)] = [file_path, text, []]\n",
    "\n",
    "df.head()"
   ]
  },
  {
   "cell_type": "markdown",
   "metadata": {},
   "source": [
    "Предобработка текста - удаление стоп-слов и приведение к нижнему регистру"
   ]
  },
  {
   "cell_type": "code",
   "execution_count": null,
   "metadata": {},
   "outputs": [],
   "source": [
    "import nltk\n",
    "\n",
    "nltk.download(\"stopwords\")\n",
    "nltk.download(\"punkt\")\n",
    "\n",
    "test_text = \"2.2 К этому времени уже было сформировано множество предпосылок его зарождения: среди философов давно шли споры о природе человека и процессе познания мира, нейрофизиологи и психологи разработали ряд теорий относительно работы человеческого мозга и мышления, экономисты и математики задавались вопросами оптимальных расчётов и представления знаний о мире в формализованном виде; наконец, зародился фундамент математической теории вычислений — теории алгоритмов — и были созданы первые компьютеры.\""
   ]
  },
  {
   "cell_type": "code",
   "execution_count": 3,
   "metadata": {},
   "outputs": [
    {
     "name": "stdout",
     "output_type": "stream",
     "text": [
      "{'там', 'сам', 'после', 'нас', 'есть', 'будет', 'когда', 'не', 'ему', 'впрочем', 'он', 'так', 'нее', 'куда', 'уже', 'тем', 'ну', 'два', 'были', 'много', 'опять', 'но', 'что', 'сейчас', 'нельзя', 'ли', 'иногда', 'был', 'с', 'теперь', 'тут', 'совсем', 'тоже', 'разве', 'быть', 'только', 'вот', 'себя', 'надо', 'при', 'другой', 'вы', 'такой', 'да', 'как', 'наконец', 'здесь', 'у', 'тогда', 'была', 'какая', 'свою', 'больше', 'ни', 'ним', 'том', 'этой', 'из', 'один', 'их', 'него', 'может', 'через', 'ее', 'моя', 'она', 'мне', 'о', 'чтобы', 'уж', 'то', 'потому', 'на', 'хорошо', 'они', 'вдруг', 'нет', 'про', 'вам', 'еще', 'этого', 'под', 'чем', 'более', 'зачем', 'во', 'всегда', 'ты', 'этот', 'какой', 'этом', 'никогда', 'лучше', 'эту', 'даже', 'бы', 'об', 'за', 'в', 'ничего', 'тот', 'эти', 'конечно', 'раз', 'себе', 'со', 'нибудь', 'всю', 'мы', 'к', 'кто', 'по', 'чтоб', 'хоть', 'мой', 'можно', 'для', 'его', 'всего', 'все', 'почти', 'ж', 'вас', 'а', 'будто', 'тебя', 'перед', 'если', 'от', 'я', 'них', 'же', 'или', 'ей', 'чуть', 'им', 'и', 'между', 'меня', 'ней', 'без', 'было', 'над', 'всех', 'до', 'где', 'того', 'чего', 'ведь', 'три', 'потом'}\n",
      "{'{', ']', '.', '`', '|', '@', '^', '%', \"'\", '\"', '~', '\\\\', '$', '!', '>', ',', ';', '?', ':', '_', ')', '=', '/', '-', '+', '&', '#', '(', '[', '}', '*', '<'}\n",
      "2.2 К этому времени уже было сформировано множество предпосылок его зарождения: среди философов давно шли споры о природе человека и процессе познания мира, нейрофизиологи и психологи разработали ряд теорий относительно работы человеческого мозга и мышления, экономисты и математики задавались вопросами оптимальных расчётов и представления знаний о мире в формализованном виде; наконец, зародился фундамент математической теории вычислений — теории алгоритмов — и были созданы первые компьютеры.\n",
      "2.2 этому времени сформировано множество предпосылок зарождения среди философов давно шли споры природе человека процессе познания мира нейрофизиологи психологи разработали ряд теорий относительно работы человеческого мозга мышления экономисты математики задавались вопросами оптимальных расчётов представления знаний мире формализованном виде зародился фундамент математической теории вычислений — теории алгоритмов — созданы первые компьютеры\n"
     ]
    }
   ],
   "source": [
    "from nltk.corpus import stopwords\n",
    "from nltk.tokenize import word_tokenize\n",
    "import string\n",
    "\n",
    "stop_words = set(stopwords.words(\"russian\"))\n",
    "punctuation = set(string.punctuation)\n",
    "print(stop_words)\n",
    "print(punctuation)\n",
    "\n",
    "\n",
    "def preprocess_text(text):\n",
    "    words = word_tokenize(text.lower())\n",
    "    filtered_words = [\n",
    "        word for word in words if word not in stop_words and word not in punctuation\n",
    "    ]\n",
    "    return \" \".join(filtered_words)\n",
    "\n",
    "print(test_text)\n",
    "print(preprocess_text(test_text))"
   ]
  },
  {
   "cell_type": "code",
   "execution_count": 4,
   "metadata": {},
   "outputs": [
    {
     "data": {
      "text/html": [
       "<div>\n",
       "<style scoped>\n",
       "    .dataframe tbody tr th:only-of-type {\n",
       "        vertical-align: middle;\n",
       "    }\n",
       "\n",
       "    .dataframe tbody tr th {\n",
       "        vertical-align: top;\n",
       "    }\n",
       "\n",
       "    .dataframe thead th {\n",
       "        text-align: right;\n",
       "    }\n",
       "</style>\n",
       "<table border=\"1\" class=\"dataframe\">\n",
       "  <thead>\n",
       "    <tr style=\"text-align: right;\">\n",
       "      <th></th>\n",
       "      <th>doc</th>\n",
       "      <th>text</th>\n",
       "      <th>vector</th>\n",
       "    </tr>\n",
       "  </thead>\n",
       "  <tbody>\n",
       "    <tr>\n",
       "      <th>0</th>\n",
       "      <td>tz_01.docx</td>\n",
       "      <td>2.2 техническое задание 2.2.1 общие сведения п...</td>\n",
       "      <td>[]</td>\n",
       "    </tr>\n",
       "    <tr>\n",
       "      <th>1</th>\n",
       "      <td>tz_02.docx</td>\n",
       "      <td>2.2 техническое задание 2.2.1 общие сведения п...</td>\n",
       "      <td>[]</td>\n",
       "    </tr>\n",
       "    <tr>\n",
       "      <th>2</th>\n",
       "      <td>tz_03.docx</td>\n",
       "      <td>2.2. техническое задание общие сведения данной...</td>\n",
       "      <td>[]</td>\n",
       "    </tr>\n",
       "    <tr>\n",
       "      <th>3</th>\n",
       "      <td>tz_04.docx</td>\n",
       "      <td>техническое задание 2.2.1 общие сведения интер...</td>\n",
       "      <td>[]</td>\n",
       "    </tr>\n",
       "    <tr>\n",
       "      <th>4</th>\n",
       "      <td>tz_05.docx</td>\n",
       "      <td>2.2 техническое задание 2.2.1 общие сведения 1...</td>\n",
       "      <td>[]</td>\n",
       "    </tr>\n",
       "  </tbody>\n",
       "</table>\n",
       "</div>"
      ],
      "text/plain": [
       "          doc                                               text vector\n",
       "0  tz_01.docx  2.2 техническое задание 2.2.1 общие сведения п...     []\n",
       "1  tz_02.docx  2.2 техническое задание 2.2.1 общие сведения п...     []\n",
       "2  tz_03.docx  2.2. техническое задание общие сведения данной...     []\n",
       "3  tz_04.docx  техническое задание 2.2.1 общие сведения интер...     []\n",
       "4  tz_05.docx  2.2 техническое задание 2.2.1 общие сведения 1...     []"
      ]
     },
     "execution_count": 4,
     "metadata": {},
     "output_type": "execute_result"
    }
   ],
   "source": [
    "df[\"text\"] = df.apply(lambda row: preprocess_text(row[\"text\"]), axis=1)\n",
    "\n",
    "df.head()"
   ]
  },
  {
   "cell_type": "markdown",
   "metadata": {},
   "source": [
    "Предобработка текста - удаление спецсимволов"
   ]
  },
  {
   "cell_type": "code",
   "execution_count": 5,
   "metadata": {},
   "outputs": [
    {
     "name": "stdout",
     "output_type": "stream",
     "text": [
      "2.2 этому времени сформировано множество предпосылок зарождения среди философов давно шли споры природе человека процессе познания мира нейрофизиологи психологи разработали ряд теорий относительно работы человеческого мозга мышления экономисты математики задавались вопросами оптимальных расчётов представления знаний мире формализованном виде зародился фундамент математической теории вычислений — теории алгоритмов — созданы первые компьютеры\n",
      "этому времени сформировано множество предпосылок зарождения среди философов давно шли споры природе человека процессе познания мира нейрофизиологи психологи разработали ряд теорий относительно работы человеческого мозга мышления экономисты математики задавались вопросами оптимальных расчётов представления знаний мире формализованном виде зародился фундамент математической теории вычислений теории алгоритмов созданы первые компьютеры\n"
     ]
    }
   ],
   "source": [
    "import re\n",
    "\n",
    "regex = re.compile(\"[^a-zA-Zа-яА-Я]\")\n",
    "\n",
    "def clean_from_specs(text):\n",
    "    after_clean_words = [\n",
    "        token for token in word_tokenize(text) if len(regex.sub(\"\", str(token))) > 2\n",
    "    ]\n",
    "    return \" \".join(after_clean_words)\n",
    "\n",
    "print(preprocess_text(test_text))\n",
    "print(clean_from_specs(preprocess_text(test_text)))"
   ]
  },
  {
   "cell_type": "code",
   "execution_count": 6,
   "metadata": {},
   "outputs": [
    {
     "data": {
      "text/html": [
       "<div>\n",
       "<style scoped>\n",
       "    .dataframe tbody tr th:only-of-type {\n",
       "        vertical-align: middle;\n",
       "    }\n",
       "\n",
       "    .dataframe tbody tr th {\n",
       "        vertical-align: top;\n",
       "    }\n",
       "\n",
       "    .dataframe thead th {\n",
       "        text-align: right;\n",
       "    }\n",
       "</style>\n",
       "<table border=\"1\" class=\"dataframe\">\n",
       "  <thead>\n",
       "    <tr style=\"text-align: right;\">\n",
       "      <th></th>\n",
       "      <th>doc</th>\n",
       "      <th>text</th>\n",
       "      <th>vector</th>\n",
       "    </tr>\n",
       "  </thead>\n",
       "  <tbody>\n",
       "    <tr>\n",
       "      <th>0</th>\n",
       "      <td>tz_01.docx</td>\n",
       "      <td>техническое задание общие сведения полное наим...</td>\n",
       "      <td>[]</td>\n",
       "    </tr>\n",
       "    <tr>\n",
       "      <th>1</th>\n",
       "      <td>tz_02.docx</td>\n",
       "      <td>техническое задание общие сведения полное наим...</td>\n",
       "      <td>[]</td>\n",
       "    </tr>\n",
       "    <tr>\n",
       "      <th>2</th>\n",
       "      <td>tz_03.docx</td>\n",
       "      <td>техническое задание общие сведения данной глав...</td>\n",
       "      <td>[]</td>\n",
       "    </tr>\n",
       "    <tr>\n",
       "      <th>3</th>\n",
       "      <td>tz_04.docx</td>\n",
       "      <td>техническое задание общие сведения интернет-ма...</td>\n",
       "      <td>[]</td>\n",
       "    </tr>\n",
       "    <tr>\n",
       "      <th>4</th>\n",
       "      <td>tz_05.docx</td>\n",
       "      <td>техническое задание общие сведения полное наим...</td>\n",
       "      <td>[]</td>\n",
       "    </tr>\n",
       "  </tbody>\n",
       "</table>\n",
       "</div>"
      ],
      "text/plain": [
       "          doc                                               text vector\n",
       "0  tz_01.docx  техническое задание общие сведения полное наим...     []\n",
       "1  tz_02.docx  техническое задание общие сведения полное наим...     []\n",
       "2  tz_03.docx  техническое задание общие сведения данной глав...     []\n",
       "3  tz_04.docx  техническое задание общие сведения интернет-ма...     []\n",
       "4  tz_05.docx  техническое задание общие сведения полное наим...     []"
      ]
     },
     "execution_count": 6,
     "metadata": {},
     "output_type": "execute_result"
    }
   ],
   "source": [
    "df[\"text\"] = df.apply(lambda row: clean_from_specs(row[\"text\"]), axis=1)\n",
    "\n",
    "df.head()"
   ]
  },
  {
   "cell_type": "markdown",
   "metadata": {},
   "source": [
    "Предобработка текста - лемматизация"
   ]
  },
  {
   "cell_type": "code",
   "execution_count": 7,
   "metadata": {},
   "outputs": [
    {
     "name": "stdout",
     "output_type": "stream",
     "text": [
      "этому времени сформировано множество предпосылок зарождения среди философов давно шли споры природе человека процессе познания мира нейрофизиологи психологи разработали ряд теорий относительно работы человеческого мозга мышления экономисты математики задавались вопросами оптимальных расчётов представления знаний мире формализованном виде зародился фундамент математической теории вычислений теории алгоритмов созданы первые компьютеры\n",
      "это время сформировать множество предпосылка зарождение среди философ давно идти спор природа человек процесс познание мир нейрофизиолог психолог разработать ряд теория относительно работа человеческий мозг мышление экономист математика задаваться вопрос оптимальный расчёт представление знание мир формализованный вид зародиться фундамент математический теория вычисление теория алгоритм создать первый компьютер\n"
     ]
    }
   ],
   "source": [
    "import spacy\n",
    "\n",
    "nlp = spacy.load(\"ru_core_news_sm\")\n",
    "\n",
    "\n",
    "def lemmatize(text):\n",
    "    lemmatized_words = [\n",
    "        token.lemma_\n",
    "        for token in nlp(text)\n",
    "    ]\n",
    "    return \" \".join(lemmatized_words)\n",
    "\n",
    "print(clean_from_specs(preprocess_text(test_text)))\n",
    "print(lemmatize(clean_from_specs(preprocess_text(test_text))))"
   ]
  },
  {
   "cell_type": "code",
   "execution_count": 8,
   "metadata": {},
   "outputs": [
    {
     "data": {
      "text/html": [
       "<div>\n",
       "<style scoped>\n",
       "    .dataframe tbody tr th:only-of-type {\n",
       "        vertical-align: middle;\n",
       "    }\n",
       "\n",
       "    .dataframe tbody tr th {\n",
       "        vertical-align: top;\n",
       "    }\n",
       "\n",
       "    .dataframe thead th {\n",
       "        text-align: right;\n",
       "    }\n",
       "</style>\n",
       "<table border=\"1\" class=\"dataframe\">\n",
       "  <thead>\n",
       "    <tr style=\"text-align: right;\">\n",
       "      <th></th>\n",
       "      <th>doc</th>\n",
       "      <th>text</th>\n",
       "      <th>vector</th>\n",
       "    </tr>\n",
       "  </thead>\n",
       "  <tbody>\n",
       "    <tr>\n",
       "      <th>0</th>\n",
       "      <td>tz_01.docx</td>\n",
       "      <td>технический задание общий сведение полный наим...</td>\n",
       "      <td>[]</td>\n",
       "    </tr>\n",
       "    <tr>\n",
       "      <th>1</th>\n",
       "      <td>tz_02.docx</td>\n",
       "      <td>технический задание общий сведение полный наим...</td>\n",
       "      <td>[]</td>\n",
       "    </tr>\n",
       "    <tr>\n",
       "      <th>2</th>\n",
       "      <td>tz_03.docx</td>\n",
       "      <td>технический задание общий сведение данной глав...</td>\n",
       "      <td>[]</td>\n",
       "    </tr>\n",
       "    <tr>\n",
       "      <th>3</th>\n",
       "      <td>tz_04.docx</td>\n",
       "      <td>технический задание общий сведение интернет - ...</td>\n",
       "      <td>[]</td>\n",
       "    </tr>\n",
       "    <tr>\n",
       "      <th>4</th>\n",
       "      <td>tz_05.docx</td>\n",
       "      <td>технический задание общий сведение полный наим...</td>\n",
       "      <td>[]</td>\n",
       "    </tr>\n",
       "  </tbody>\n",
       "</table>\n",
       "</div>"
      ],
      "text/plain": [
       "          doc                                               text vector\n",
       "0  tz_01.docx  технический задание общий сведение полный наим...     []\n",
       "1  tz_02.docx  технический задание общий сведение полный наим...     []\n",
       "2  tz_03.docx  технический задание общий сведение данной глав...     []\n",
       "3  tz_04.docx  технический задание общий сведение интернет - ...     []\n",
       "4  tz_05.docx  технический задание общий сведение полный наим...     []"
      ]
     },
     "execution_count": 8,
     "metadata": {},
     "output_type": "execute_result"
    }
   ],
   "source": [
    "df[\"text\"] = df.apply(lambda row: lemmatize(row[\"text\"]), axis=1)\n",
    "\n",
    "df.head()"
   ]
  },
  {
   "cell_type": "markdown",
   "metadata": {},
   "source": [
    "Векторизация"
   ]
  },
  {
   "cell_type": "code",
   "execution_count": 9,
   "metadata": {},
   "outputs": [
    {
     "name": "stdout",
     "output_type": "stream",
     "text": [
      "['000001' '05' '08080165' ... 'ясность' 'ясный' 'ящик']\n"
     ]
    },
    {
     "data": {
      "text/html": [
       "<div>\n",
       "<style scoped>\n",
       "    .dataframe tbody tr th:only-of-type {\n",
       "        vertical-align: middle;\n",
       "    }\n",
       "\n",
       "    .dataframe tbody tr th {\n",
       "        vertical-align: top;\n",
       "    }\n",
       "\n",
       "    .dataframe thead th {\n",
       "        text-align: right;\n",
       "    }\n",
       "</style>\n",
       "<table border=\"1\" class=\"dataframe\">\n",
       "  <thead>\n",
       "    <tr style=\"text-align: right;\">\n",
       "      <th></th>\n",
       "      <th>doc</th>\n",
       "      <th>text</th>\n",
       "      <th>vector</th>\n",
       "    </tr>\n",
       "  </thead>\n",
       "  <tbody>\n",
       "    <tr>\n",
       "      <th>0</th>\n",
       "      <td>tz_01.docx</td>\n",
       "      <td>технический задание общий сведение полный наим...</td>\n",
       "      <td>[0.0, 0.0, 0.0, 0.0, 0.0, 0.0, 0.0, 0.0, 0.0, ...</td>\n",
       "    </tr>\n",
       "    <tr>\n",
       "      <th>1</th>\n",
       "      <td>tz_02.docx</td>\n",
       "      <td>технический задание общий сведение полный наим...</td>\n",
       "      <td>[0.0, 0.0, 0.0, 0.0, 0.0, 0.0, 0.0, 0.0, 0.0, ...</td>\n",
       "    </tr>\n",
       "    <tr>\n",
       "      <th>2</th>\n",
       "      <td>tz_03.docx</td>\n",
       "      <td>технический задание общий сведение данной глав...</td>\n",
       "      <td>[0.0, 0.0, 0.0, 0.0, 0.0, 0.0, 0.0, 0.0, 0.0, ...</td>\n",
       "    </tr>\n",
       "    <tr>\n",
       "      <th>3</th>\n",
       "      <td>tz_04.docx</td>\n",
       "      <td>технический задание общий сведение интернет - ...</td>\n",
       "      <td>[0.0, 0.0, 0.0, 0.0, 0.0, 0.0, 0.0, 0.0, 0.0, ...</td>\n",
       "    </tr>\n",
       "    <tr>\n",
       "      <th>4</th>\n",
       "      <td>tz_05.docx</td>\n",
       "      <td>технический задание общий сведение полный наим...</td>\n",
       "      <td>[0.0, 0.0, 0.0, 0.0, 0.0, 0.0, 0.0, 0.0, 0.0, ...</td>\n",
       "    </tr>\n",
       "  </tbody>\n",
       "</table>\n",
       "</div>"
      ],
      "text/plain": [
       "          doc                                               text  \\\n",
       "0  tz_01.docx  технический задание общий сведение полный наим...   \n",
       "1  tz_02.docx  технический задание общий сведение полный наим...   \n",
       "2  tz_03.docx  технический задание общий сведение данной глав...   \n",
       "3  tz_04.docx  технический задание общий сведение интернет - ...   \n",
       "4  tz_05.docx  технический задание общий сведение полный наим...   \n",
       "\n",
       "                                              vector  \n",
       "0  [0.0, 0.0, 0.0, 0.0, 0.0, 0.0, 0.0, 0.0, 0.0, ...  \n",
       "1  [0.0, 0.0, 0.0, 0.0, 0.0, 0.0, 0.0, 0.0, 0.0, ...  \n",
       "2  [0.0, 0.0, 0.0, 0.0, 0.0, 0.0, 0.0, 0.0, 0.0, ...  \n",
       "3  [0.0, 0.0, 0.0, 0.0, 0.0, 0.0, 0.0, 0.0, 0.0, ...  \n",
       "4  [0.0, 0.0, 0.0, 0.0, 0.0, 0.0, 0.0, 0.0, 0.0, ...  "
      ]
     },
     "execution_count": 9,
     "metadata": {},
     "output_type": "execute_result"
    }
   ],
   "source": [
    "from sklearn.feature_extraction.text import TfidfVectorizer\n",
    "from sklearn.preprocessing import normalize\n",
    "from scipy import sparse\n",
    "\n",
    "tfidf_vectorizer = TfidfVectorizer()\n",
    "tfidf_matrix = sparse.csr_matrix(tfidf_vectorizer.fit_transform(df[\"text\"]))\n",
    "feature_names = tfidf_vectorizer.get_feature_names_out()\n",
    "\n",
    "df[\"vector\"] = df.apply(lambda row: tfidf_matrix.toarray()[row.name], axis=1)\n",
    "\n",
    "print(feature_names)\n",
    "df.head()"
   ]
  },
  {
   "cell_type": "code",
   "execution_count": 10,
   "metadata": {},
   "outputs": [
    {
     "data": {
      "text/html": [
       "<div>\n",
       "<style scoped>\n",
       "    .dataframe tbody tr th:only-of-type {\n",
       "        vertical-align: middle;\n",
       "    }\n",
       "\n",
       "    .dataframe tbody tr th {\n",
       "        vertical-align: top;\n",
       "    }\n",
       "\n",
       "    .dataframe thead th {\n",
       "        text-align: right;\n",
       "    }\n",
       "</style>\n",
       "<table border=\"1\" class=\"dataframe\">\n",
       "  <thead>\n",
       "    <tr style=\"text-align: right;\">\n",
       "      <th></th>\n",
       "      <th>doc</th>\n",
       "      <th>text</th>\n",
       "      <th>vector</th>\n",
       "      <th>terms</th>\n",
       "    </tr>\n",
       "  </thead>\n",
       "  <tbody>\n",
       "    <tr>\n",
       "      <th>0</th>\n",
       "      <td>tz_01.docx</td>\n",
       "      <td>технический задание общий сведение полный наим...</td>\n",
       "      <td>[0.0, 0.0, 0.0, 0.0, 0.0, 0.0, 0.0, 0.0, 0.0, ...</td>\n",
       "      <td>бухгалтерский, должный, пользователь, работа, ...</td>\n",
       "    </tr>\n",
       "    <tr>\n",
       "      <th>1</th>\n",
       "      <td>tz_02.docx</td>\n",
       "      <td>технический задание общий сведение полный наим...</td>\n",
       "      <td>[0.0, 0.0, 0.0, 0.0, 0.0, 0.0, 0.0, 0.0, 0.0, ...</td>\n",
       "      <td>заказ, консультант, необходимый, продавец, раб...</td>\n",
       "    </tr>\n",
       "    <tr>\n",
       "      <th>2</th>\n",
       "      <td>tz_03.docx</td>\n",
       "      <td>технический задание общий сведение данной глав...</td>\n",
       "      <td>[0.0, 0.0, 0.0, 0.0, 0.0, 0.0, 0.0, 0.0, 0.0, ...</td>\n",
       "      <td>goodline, должный, клиент, работа, система, тр...</td>\n",
       "    </tr>\n",
       "    <tr>\n",
       "      <th>3</th>\n",
       "      <td>tz_04.docx</td>\n",
       "      <td>технический задание общий сведение интернет - ...</td>\n",
       "      <td>[0.0, 0.0, 0.0, 0.0, 0.0, 0.0, 0.0, 0.0, 0.0, ...</td>\n",
       "      <td>заказ, интернет, магазин, покупатель, сайт, товар</td>\n",
       "    </tr>\n",
       "    <tr>\n",
       "      <th>4</th>\n",
       "      <td>tz_05.docx</td>\n",
       "      <td>технический задание общий сведение полный наим...</td>\n",
       "      <td>[0.0, 0.0, 0.0, 0.0, 0.0, 0.0, 0.0, 0.0, 0.0, ...</td>\n",
       "      <td>кабинет, конфигурация, медицинский, методическ...</td>\n",
       "    </tr>\n",
       "  </tbody>\n",
       "</table>\n",
       "</div>"
      ],
      "text/plain": [
       "          doc                                               text  \\\n",
       "0  tz_01.docx  технический задание общий сведение полный наим...   \n",
       "1  tz_02.docx  технический задание общий сведение полный наим...   \n",
       "2  tz_03.docx  технический задание общий сведение данной глав...   \n",
       "3  tz_04.docx  технический задание общий сведение интернет - ...   \n",
       "4  tz_05.docx  технический задание общий сведение полный наим...   \n",
       "\n",
       "                                              vector  \\\n",
       "0  [0.0, 0.0, 0.0, 0.0, 0.0, 0.0, 0.0, 0.0, 0.0, ...   \n",
       "1  [0.0, 0.0, 0.0, 0.0, 0.0, 0.0, 0.0, 0.0, 0.0, ...   \n",
       "2  [0.0, 0.0, 0.0, 0.0, 0.0, 0.0, 0.0, 0.0, 0.0, ...   \n",
       "3  [0.0, 0.0, 0.0, 0.0, 0.0, 0.0, 0.0, 0.0, 0.0, ...   \n",
       "4  [0.0, 0.0, 0.0, 0.0, 0.0, 0.0, 0.0, 0.0, 0.0, ...   \n",
       "\n",
       "                                               terms  \n",
       "0  бухгалтерский, должный, пользователь, работа, ...  \n",
       "1  заказ, консультант, необходимый, продавец, раб...  \n",
       "2  goodline, должный, клиент, работа, система, тр...  \n",
       "3  заказ, интернет, магазин, покупатель, сайт, товар  \n",
       "4  кабинет, конфигурация, медицинский, методическ...  "
      ]
     },
     "execution_count": 10,
     "metadata": {},
     "output_type": "execute_result"
    }
   ],
   "source": [
    "def get_terms(doc_index, threshold = 0.0):\n",
    "    important_words = [\n",
    "        word\n",
    "        for word, score in zip(\n",
    "            feature_names, df.iloc[doc_index][\"vector\"]\n",
    "        )\n",
    "        if score > threshold\n",
    "    ]\n",
    "    return \", \".join(important_words)\n",
    "\n",
    "df[\"terms\"] = df.apply(lambda row: get_terms(row.name, 0.14), axis=1)\n",
    "df.head()"
   ]
  },
  {
   "cell_type": "markdown",
   "metadata": {},
   "source": [
    "Кластеризация"
   ]
  },
  {
   "cell_type": "code",
   "execution_count": 11,
   "metadata": {},
   "outputs": [
    {
     "name": "stdout",
     "output_type": "stream",
     "text": [
      "Кластер 1 (21):\n",
      "Архитектура, управляемая модель.docx; Введение в проектирование ИС.docx; Встроенные операторы SQL.docx; Методологии разработки программного обеспечения 2.docx; Методологии разработки программного обеспечения.docx; Методы композиции и декомпозиции.docx; Модели представления данных в СУБД.docx; Некоторые особенности проектирования.docx; Непроцедурный доступ к данным.docx; Процедурное расширение языка SQL.docx; Системные объекты базы данных.docx; Технология создания распр ИС.docx; Требования к проекту.docx; Условия целостности БД.docx; Характеристики СУБД.docx; Этапы разработки проекта1.docx; Этапы разработки проекта2.docx; Этапы разработки проекта3.docx; Этапы разработки проекта4.docx; Этапы разработки проекта5.docx; Язык манипуляции данными.docx\n",
      "--------\n",
      "Кластер 2 (20):\n",
      "tz_01.docx; tz_02.docx; tz_03.docx; tz_04.docx; tz_05.docx; tz_06.docx; tz_07.docx; tz_08.docx; tz_09.docx; tz_10.docx; tz_11.docx; tz_12.docx; tz_13.docx; tz_14.docx; tz_15.docx; tz_16.docx; tz_17.docx; tz_18.docx; tz_19.docx; tz_20.docx\n",
      "--------\n"
     ]
    }
   ],
   "source": [
    "from sklearn.cluster import KMeans\n",
    "import numpy\n",
    "\n",
    "num_clusters = 2\n",
    "kmeans = KMeans(n_clusters=num_clusters, random_state=6)\n",
    "kmeans.fit(tfidf_matrix)\n",
    "\n",
    "for cluster_id in range(num_clusters):\n",
    "    cluster_indices = numpy.where(kmeans.labels_ == cluster_id)[0]\n",
    "    print(f\"Кластер {cluster_id + 1} ({len(cluster_indices)}):\")\n",
    "    cluster_docs = [df.iloc[idx][\"doc\"] for idx in cluster_indices]\n",
    "    print(\"; \".join(cluster_docs))\n",
    "    print(\"--------\")"
   ]
  },
  {
   "cell_type": "markdown",
   "metadata": {},
   "source": [
    "Нечеткая кластеризация"
   ]
  },
  {
   "cell_type": "code",
   "execution_count": 12,
   "metadata": {},
   "outputs": [
    {
     "name": "stdout",
     "output_type": "stream",
     "text": [
      "Кластер 1 (22): \n",
      "tz_04.docx[0.5166101191802561]; Архитектура, управляемая модель.docx[0.7582125834754992]; Введение в проектирование ИС.docx[0.5850149903384512]; Встроенные операторы SQL.docx[0.7673415504188015]; Методологии разработки программного обеспечения 2.docx[0.6289763499422395]; Методологии разработки программного обеспечения.docx[0.7249251707190414]; Методы композиции и декомпозиции.docx[0.7015593127921799]; Модели представления данных в СУБД.docx[0.8535653976420321]; Некоторые особенности проектирования.docx[0.8969358461350041]; Непроцедурный доступ к данным.docx[0.743764571013637]; Процедурное расширение языка SQL.docx[0.7978352115015387]; Системные объекты базы данных.docx[0.8268402188139414]; Технология создания распр ИС.docx[0.8640491569646779]; Требования к проекту.docx[0.622781259959001]; Условия целостности БД.docx[0.8318622300590391]; Характеристики СУБД.docx[0.844747662718]; Этапы разработки проекта1.docx[0.865309170452283]; Этапы разработки проекта2.docx[0.9115763830880149]; Этапы разработки проекта3.docx[0.8782561201299337]; Этапы разработки проекта4.docx[0.7479082447034505]; Этапы разработки проекта5.docx[0.7904127725005641]; Язык манипуляции данными.docx[0.771282962228181]\n",
      "--------\n",
      "Кластер 2 (19): \n",
      "tz_01.docx[0.9309642473465621]; tz_02.docx[0.8758955614403595]; tz_03.docx[0.9279796732154442]; tz_05.docx[0.906486545996771]; tz_06.docx[0.9240009710604717]; tz_07.docx[0.9587482384753687]; tz_08.docx[0.8331032560339757]; tz_09.docx[0.9435870998571387]; tz_10.docx[0.9101841846498995]; tz_11.docx[0.782084467262398]; tz_12.docx[0.5945691545531361]; tz_13.docx[0.8572805336152068]; tz_14.docx[0.873044188438187]; tz_15.docx[0.5509097371735041]; tz_16.docx[0.95828910947306]; tz_17.docx[0.9375168242712495]; tz_18.docx[0.8478382432294111]; tz_19.docx[0.6985271587192294]; tz_20.docx[0.562769549043867]\n",
      "--------\n"
     ]
    }
   ],
   "source": [
    "from fcmeans import FCM\n",
    "\n",
    "fcm_model = FCM(n_clusters=num_clusters, m=1.2, max_iter=150, error=1e-5, trained=False, n_jobs=1)\n",
    "fcm_model.fit(tfidf_matrix.toarray())\n",
    "\n",
    "labels = fcm_model.predict(tfidf_matrix.toarray())\n",
    "soft_labels = fcm_model.soft_predict(tfidf_matrix.toarray())\n",
    "\n",
    "for cluster_id in range(num_clusters):\n",
    "    cluster_indices = numpy.where(labels == cluster_id)[0]\n",
    "    print(f\"Кластер {cluster_id + 1} ({len(cluster_indices)}): \")\n",
    "    cluster_docs = [f\"{df.iloc[idx][\"doc\"]}[{soft_labels[idx][cluster_id]}]\" for idx in cluster_indices]\n",
    "    print(\"; \".join(cluster_docs))\n",
    "    print(\"--------\")"
   ]
  },
  {
   "cell_type": "markdown",
   "metadata": {},
   "source": [
    "Классификация"
   ]
  },
  {
   "cell_type": "code",
   "execution_count": 13,
   "metadata": {},
   "outputs": [
    {
     "data": {
      "text/html": [
       "<div>\n",
       "<style scoped>\n",
       "    .dataframe tbody tr th:only-of-type {\n",
       "        vertical-align: middle;\n",
       "    }\n",
       "\n",
       "    .dataframe tbody tr th {\n",
       "        vertical-align: top;\n",
       "    }\n",
       "\n",
       "    .dataframe thead th {\n",
       "        text-align: right;\n",
       "    }\n",
       "</style>\n",
       "<table border=\"1\" class=\"dataframe\">\n",
       "  <thead>\n",
       "    <tr style=\"text-align: right;\">\n",
       "      <th></th>\n",
       "      <th>doc</th>\n",
       "      <th>vector</th>\n",
       "      <th>type</th>\n",
       "    </tr>\n",
       "  </thead>\n",
       "  <tbody>\n",
       "    <tr>\n",
       "      <th>0</th>\n",
       "      <td>tz_01.docx</td>\n",
       "      <td>[0.0, 0.0, 0.0, 0.0, 0.0, 0.0, 0.0, 0.0, 0.0, ...</td>\n",
       "      <td>0</td>\n",
       "    </tr>\n",
       "    <tr>\n",
       "      <th>1</th>\n",
       "      <td>tz_02.docx</td>\n",
       "      <td>[0.0, 0.0, 0.0, 0.0, 0.0, 0.0, 0.0, 0.0, 0.0, ...</td>\n",
       "      <td>0</td>\n",
       "    </tr>\n",
       "    <tr>\n",
       "      <th>2</th>\n",
       "      <td>tz_03.docx</td>\n",
       "      <td>[0.0, 0.0, 0.0, 0.0, 0.0, 0.0, 0.0, 0.0, 0.0, ...</td>\n",
       "      <td>0</td>\n",
       "    </tr>\n",
       "    <tr>\n",
       "      <th>3</th>\n",
       "      <td>tz_04.docx</td>\n",
       "      <td>[0.0, 0.0, 0.0, 0.0, 0.0, 0.0, 0.0, 0.0, 0.0, ...</td>\n",
       "      <td>0</td>\n",
       "    </tr>\n",
       "    <tr>\n",
       "      <th>4</th>\n",
       "      <td>tz_05.docx</td>\n",
       "      <td>[0.0, 0.0, 0.0, 0.0, 0.0, 0.0, 0.0, 0.0, 0.0, ...</td>\n",
       "      <td>0</td>\n",
       "    </tr>\n",
       "  </tbody>\n",
       "</table>\n",
       "</div>"
      ],
      "text/plain": [
       "          doc                                             vector  type\n",
       "0  tz_01.docx  [0.0, 0.0, 0.0, 0.0, 0.0, 0.0, 0.0, 0.0, 0.0, ...     0\n",
       "1  tz_02.docx  [0.0, 0.0, 0.0, 0.0, 0.0, 0.0, 0.0, 0.0, 0.0, ...     0\n",
       "2  tz_03.docx  [0.0, 0.0, 0.0, 0.0, 0.0, 0.0, 0.0, 0.0, 0.0, ...     0\n",
       "3  tz_04.docx  [0.0, 0.0, 0.0, 0.0, 0.0, 0.0, 0.0, 0.0, 0.0, ...     0\n",
       "4  tz_05.docx  [0.0, 0.0, 0.0, 0.0, 0.0, 0.0, 0.0, 0.0, 0.0, ...     0"
      ]
     },
     "execution_count": 13,
     "metadata": {},
     "output_type": "execute_result"
    }
   ],
   "source": [
    "categories = [\"ТЗ\", \"Статьи\"]\n",
    "\n",
    "class_df = df.filter([\"doc\", \"vector\"], axis=1)\n",
    "class_df[\"type\"] = class_df.apply(lambda row: 0 if str(row[\"doc\"]).startswith(\"tz_\") else 1, axis=1)\n",
    "class_df.head()"
   ]
  },
  {
   "cell_type": "code",
   "execution_count": 14,
   "metadata": {},
   "outputs": [],
   "source": [
    "from sklearn.model_selection import train_test_split\n",
    "from sklearn.naive_bayes import MultinomialNB\n",
    "from sklearn.metrics import accuracy_score\n",
    "\n",
    "X = [item.tolist() for item in class_df[\"vector\"].to_numpy()]\n",
    "y = class_df[\"type\"].to_numpy()\n",
    "X_train, X_test, y_train, y_test = train_test_split(\n",
    "    X, y, test_size=0.2, random_state=0\n",
    ")"
   ]
  },
  {
   "cell_type": "code",
   "execution_count": 15,
   "metadata": {},
   "outputs": [
    {
     "name": "stdout",
     "output_type": "stream",
     "text": [
      "Точность модели: 1.0\n",
      "[1 1 1 0 0 1 1 0 1]\n",
      "[1 1 1 0 0 1 1 0 1]\n"
     ]
    }
   ],
   "source": [
    "classifier = MultinomialNB()\n",
    "classifier.fit(X_train, y_train)\n",
    "\n",
    "y_pred = classifier.predict(X_test)\n",
    "\n",
    "accuracy = accuracy_score(y_test, y_pred)\n",
    "print(f\"Точность модели: {accuracy}\")\n",
    "\n",
    "print(y_test)\n",
    "print(y_pred)"
   ]
  }
 ],
 "metadata": {
  "kernelspec": {
   "display_name": "Python 3",
   "language": "python",
   "name": "python3"
  },
  "language_info": {
   "codemirror_mode": {
    "name": "ipython",
    "version": 3
   },
   "file_extension": ".py",
   "mimetype": "text/x-python",
   "name": "python",
   "nbconvert_exporter": "python",
   "pygments_lexer": "ipython3",
   "version": "3.12.3"
  }
 },
 "nbformat": 4,
 "nbformat_minor": 2
}
