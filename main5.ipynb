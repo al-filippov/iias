{
 "cells": [
  {
   "cell_type": "markdown",
   "metadata": {},
   "source": [
    "Установка зависимостей"
   ]
  },
  {
   "cell_type": "code",
   "execution_count": 3,
   "metadata": {},
   "outputs": [
    {
     "name": "stdout",
     "output_type": "stream",
     "text": [
      "Requirement already satisfied: owlready2==0.45 in c:\\users\\user\\projects\\python\\iias\\.venv\\lib\\site-packages (0.45)\n",
      "Note: you may need to restart the kernel to use updated packages.\n"
     ]
    }
   ],
   "source": [
    "%pip install owlready2==0.45"
   ]
  },
  {
   "cell_type": "markdown",
   "metadata": {},
   "source": [
    "Загрузка онтологии и запуск машины логического вывода (ризонера) pellet"
   ]
  },
  {
   "cell_type": "code",
   "execution_count": 46,
   "metadata": {},
   "outputs": [
    {
     "name": "stderr",
     "output_type": "stream",
     "text": [
      "* Owlready2 * Running Pellet...\n",
      "    C:\\Program Files\\Eclipse Adoptium\\jdk-21.0.2.13-hotspot\\bin\\java.exe -Xmx2000M -cp c:\\Users\\user\\Projects\\python\\iias\\.venv\\Lib\\site-packages\\owlready2\\pellet\\antlr-3.2.jar;c:\\Users\\user\\Projects\\python\\iias\\.venv\\Lib\\site-packages\\owlready2\\pellet\\antlr-runtime-3.2.jar;c:\\Users\\user\\Projects\\python\\iias\\.venv\\Lib\\site-packages\\owlready2\\pellet\\aterm-java-1.6.jar;c:\\Users\\user\\Projects\\python\\iias\\.venv\\Lib\\site-packages\\owlready2\\pellet\\commons-codec-1.6.jar;c:\\Users\\user\\Projects\\python\\iias\\.venv\\Lib\\site-packages\\owlready2\\pellet\\httpclient-4.2.3.jar;c:\\Users\\user\\Projects\\python\\iias\\.venv\\Lib\\site-packages\\owlready2\\pellet\\httpcore-4.2.2.jar;c:\\Users\\user\\Projects\\python\\iias\\.venv\\Lib\\site-packages\\owlready2\\pellet\\jcl-over-slf4j-1.6.4.jar;c:\\Users\\user\\Projects\\python\\iias\\.venv\\Lib\\site-packages\\owlready2\\pellet\\jena-arq-2.10.0.jar;c:\\Users\\user\\Projects\\python\\iias\\.venv\\Lib\\site-packages\\owlready2\\pellet\\jena-core-2.10.0.jar;c:\\Users\\user\\Projects\\python\\iias\\.venv\\Lib\\site-packages\\owlready2\\pellet\\jena-iri-0.9.5.jar;c:\\Users\\user\\Projects\\python\\iias\\.venv\\Lib\\site-packages\\owlready2\\pellet\\jena-tdb-0.10.0.jar;c:\\Users\\user\\Projects\\python\\iias\\.venv\\Lib\\site-packages\\owlready2\\pellet\\jgrapht-jdk1.5.jar;c:\\Users\\user\\Projects\\python\\iias\\.venv\\Lib\\site-packages\\owlready2\\pellet\\log4j-1.2-api-2.19.0.jar;c:\\Users\\user\\Projects\\python\\iias\\.venv\\Lib\\site-packages\\owlready2\\pellet\\log4j-api-2.19.0.jar;c:\\Users\\user\\Projects\\python\\iias\\.venv\\Lib\\site-packages\\owlready2\\pellet\\log4j-core-2.19.0.jar;c:\\Users\\user\\Projects\\python\\iias\\.venv\\Lib\\site-packages\\owlready2\\pellet\\owlapi-distribution-3.4.3-bin.jar;c:\\Users\\user\\Projects\\python\\iias\\.venv\\Lib\\site-packages\\owlready2\\pellet\\pellet-2.3.1.jar;c:\\Users\\user\\Projects\\python\\iias\\.venv\\Lib\\site-packages\\owlready2\\pellet\\slf4j-api-1.6.4.jar;c:\\Users\\user\\Projects\\python\\iias\\.venv\\Lib\\site-packages\\owlready2\\pellet\\slf4j-log4j12-1.6.4.jar;c:\\Users\\user\\Projects\\python\\iias\\.venv\\Lib\\site-packages\\owlready2\\pellet\\xercesImpl-2.10.0.jar;c:\\Users\\user\\Projects\\python\\iias\\.venv\\Lib\\site-packages\\owlready2\\pellet\\xml-apis-1.4.01.jar pellet.Pellet realize --loader Jena --input-format N-Triples --infer-prop-values --infer-data-prop-values --ignore-imports C:\\Users\\user\\AppData\\Local\\Temp\\tmpnjp_v5r4\n",
      "* Owlready2 * Pellet took 1.9349205493927002 seconds\n",
      "* Owlready * (NB: only changes on entities loaded in Python are shown, other changes are done but not listed)\n"
     ]
    }
   ],
   "source": [
    "from owlready2 import get_ontology, sync_reasoner_pellet, World\n",
    "\n",
    "import owlready2\n",
    "from pyparsing import Word\n",
    "\n",
    "owlready2.JAVA_EXE = (\n",
    "    \"C:\\\\Program Files\\\\Eclipse Adoptium\\\\jdk-21.0.2.13-hotspot\\\\bin\\\\java.exe\"\n",
    ")\n",
    "\n",
    "myWorld = World()\n",
    "\n",
    "onto = myWorld.get_ontology(\"file://./ontology/salary.rdf\").load()\n",
    "\n",
    "sync_reasoner_pellet(x=myWorld, infer_property_values=True, infer_data_property_values=True)"
   ]
  },
  {
   "cell_type": "markdown",
   "metadata": {},
   "source": [
    "Работа с существующими элементами онтологии"
   ]
  },
  {
   "cell_type": "code",
   "execution_count": 47,
   "metadata": {},
   "outputs": [
    {
     "name": "stdout",
     "output_type": "stream",
     "text": [
      "salary.ivanoff\n",
      "25\n",
      "30000.0\n"
     ]
    }
   ],
   "source": [
    "ivanoff = onto.ivanoff \n",
    "# IRI\n",
    "\n",
    "print(ivanoff)\n",
    "print(ivanoff.hasAge)\n",
    "print(ivanoff.hasSalary)"
   ]
  },
  {
   "cell_type": "markdown",
   "metadata": {},
   "source": [
    "Работа с полученными в процессе логического вывода новыми знаниями"
   ]
  },
  {
   "cell_type": "code",
   "execution_count": 48,
   "metadata": {},
   "outputs": [
    {
     "name": "stdout",
     "output_type": "stream",
     "text": [
      "salary.lowCredit\n",
      "Молодые люди salary.ivanoff\n",
      "Люди со средней зарплатой salary.ivanoff\n",
      "Человек: salary.ivanoff, кредит: salary.lowCredit\n"
     ]
    }
   ],
   "source": [
    "print(ivanoff.hasCredit)\n",
    "print(f\"Молодые люди {\", \".join([str(item) for item in onto.PersonYoung.instances()])}\")\n",
    "print(f\"Люди со средней зарплатой {\", \".join([str(item) for item in onto.SalaryMiddle.instances()])}\")\n",
    "\n",
    "for person in onto.Person.instances():\n",
    "    print(f\"Человек: {person}, кредит: {person.hasCredit}\")"
   ]
  },
  {
   "cell_type": "markdown",
   "metadata": {},
   "source": [
    "Создание нового экземпляра класса"
   ]
  },
  {
   "cell_type": "code",
   "execution_count": 49,
   "metadata": {},
   "outputs": [],
   "source": [
    "petroff = onto.Person(\"petroff\")\n",
    "petroff.hasAge = 24\n",
    "petroff.hasSalary = 20000.00"
   ]
  },
  {
   "cell_type": "markdown",
   "metadata": {},
   "source": [
    "Синхронизация ризонера для обновления онтологии"
   ]
  },
  {
   "cell_type": "code",
   "execution_count": 50,
   "metadata": {},
   "outputs": [
    {
     "name": "stderr",
     "output_type": "stream",
     "text": [
      "* Owlready2 * Running Pellet...\n",
      "    C:\\Program Files\\Eclipse Adoptium\\jdk-21.0.2.13-hotspot\\bin\\java.exe -Xmx2000M -cp c:\\Users\\user\\Projects\\python\\iias\\.venv\\Lib\\site-packages\\owlready2\\pellet\\antlr-3.2.jar;c:\\Users\\user\\Projects\\python\\iias\\.venv\\Lib\\site-packages\\owlready2\\pellet\\antlr-runtime-3.2.jar;c:\\Users\\user\\Projects\\python\\iias\\.venv\\Lib\\site-packages\\owlready2\\pellet\\aterm-java-1.6.jar;c:\\Users\\user\\Projects\\python\\iias\\.venv\\Lib\\site-packages\\owlready2\\pellet\\commons-codec-1.6.jar;c:\\Users\\user\\Projects\\python\\iias\\.venv\\Lib\\site-packages\\owlready2\\pellet\\httpclient-4.2.3.jar;c:\\Users\\user\\Projects\\python\\iias\\.venv\\Lib\\site-packages\\owlready2\\pellet\\httpcore-4.2.2.jar;c:\\Users\\user\\Projects\\python\\iias\\.venv\\Lib\\site-packages\\owlready2\\pellet\\jcl-over-slf4j-1.6.4.jar;c:\\Users\\user\\Projects\\python\\iias\\.venv\\Lib\\site-packages\\owlready2\\pellet\\jena-arq-2.10.0.jar;c:\\Users\\user\\Projects\\python\\iias\\.venv\\Lib\\site-packages\\owlready2\\pellet\\jena-core-2.10.0.jar;c:\\Users\\user\\Projects\\python\\iias\\.venv\\Lib\\site-packages\\owlready2\\pellet\\jena-iri-0.9.5.jar;c:\\Users\\user\\Projects\\python\\iias\\.venv\\Lib\\site-packages\\owlready2\\pellet\\jena-tdb-0.10.0.jar;c:\\Users\\user\\Projects\\python\\iias\\.venv\\Lib\\site-packages\\owlready2\\pellet\\jgrapht-jdk1.5.jar;c:\\Users\\user\\Projects\\python\\iias\\.venv\\Lib\\site-packages\\owlready2\\pellet\\log4j-1.2-api-2.19.0.jar;c:\\Users\\user\\Projects\\python\\iias\\.venv\\Lib\\site-packages\\owlready2\\pellet\\log4j-api-2.19.0.jar;c:\\Users\\user\\Projects\\python\\iias\\.venv\\Lib\\site-packages\\owlready2\\pellet\\log4j-core-2.19.0.jar;c:\\Users\\user\\Projects\\python\\iias\\.venv\\Lib\\site-packages\\owlready2\\pellet\\owlapi-distribution-3.4.3-bin.jar;c:\\Users\\user\\Projects\\python\\iias\\.venv\\Lib\\site-packages\\owlready2\\pellet\\pellet-2.3.1.jar;c:\\Users\\user\\Projects\\python\\iias\\.venv\\Lib\\site-packages\\owlready2\\pellet\\slf4j-api-1.6.4.jar;c:\\Users\\user\\Projects\\python\\iias\\.venv\\Lib\\site-packages\\owlready2\\pellet\\slf4j-log4j12-1.6.4.jar;c:\\Users\\user\\Projects\\python\\iias\\.venv\\Lib\\site-packages\\owlready2\\pellet\\xercesImpl-2.10.0.jar;c:\\Users\\user\\Projects\\python\\iias\\.venv\\Lib\\site-packages\\owlready2\\pellet\\xml-apis-1.4.01.jar pellet.Pellet realize --loader Jena --input-format N-Triples --infer-prop-values --infer-data-prop-values --ignore-imports C:\\Users\\user\\AppData\\Local\\Temp\\tmpoc1xugdg\n",
      "* Owlready2 * Pellet took 1.7672584056854248 seconds\n",
      "* Owlready * Reparenting salary.petroff: {salary.Person} => {salary.PersonYoung, salary.SalaryLow}\n",
      "* Owlready * (NB: only changes on entities loaded in Python are shown, other changes are done but not listed)\n"
     ]
    }
   ],
   "source": [
    "sync_reasoner_pellet(x=myWorld, infer_property_values=True, infer_data_property_values=True)"
   ]
  },
  {
   "cell_type": "markdown",
   "metadata": {},
   "source": [
    "Вывод информации по новому экземпляру онтологии"
   ]
  },
  {
   "cell_type": "code",
   "execution_count": 51,
   "metadata": {},
   "outputs": [
    {
     "name": "stdout",
     "output_type": "stream",
     "text": [
      "salary.petroff\n",
      "24\n",
      "20000.0\n",
      "salary.noneCredit\n",
      "Молодые люди salary.ivanoff, salary.petroff\n",
      "Люди с низкой зарплатой salary.petroff\n",
      "Люди со средней зарплатой salary.ivanoff\n",
      "Человек: salary.ivanoff, кредит: salary.lowCredit\n",
      "Человек: salary.petroff, кредит: salary.noneCredit\n"
     ]
    }
   ],
   "source": [
    "print(petroff)\n",
    "print(petroff.hasAge)\n",
    "print(petroff.hasSalary)\n",
    "print(petroff.hasCredit)\n",
    "\n",
    "print(f\"Молодые люди {\", \".join([str(item) for item in onto.PersonYoung.instances()])}\")\n",
    "print(f\"Люди с низкой зарплатой {\", \".join([str(item) for item in onto.SalaryLow.instances()])}\")\n",
    "print(f\"Люди со средней зарплатой {\", \".join([str(item) for item in onto.SalaryMiddle.instances()])}\")\n",
    "\n",
    "for person in onto.Person.instances():\n",
    "    print(f\"Человек: {person}, кредит: {person.hasCredit}\")"
   ]
  }
 ],
 "metadata": {
  "kernelspec": {
   "display_name": ".venv",
   "language": "python",
   "name": "python3"
  },
  "language_info": {
   "codemirror_mode": {
    "name": "ipython",
    "version": 3
   },
   "file_extension": ".py",
   "mimetype": "text/x-python",
   "name": "python",
   "nbconvert_exporter": "python",
   "pygments_lexer": "ipython3",
   "version": "3.12.2"
  }
 },
 "nbformat": 4,
 "nbformat_minor": 2
}
